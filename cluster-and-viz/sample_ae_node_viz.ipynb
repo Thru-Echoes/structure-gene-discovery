ae_raw = pd.DataFrame.from_csv('pseudomonas/ae_codes.csv', sep = ',')
x_ae_codes = np.array(ae_raw)

sample_labels = pd.read_csv('data/pseudo_sample_names.csv', sep = ',', header = None)
np_labels = np.array(sample_labels)

sample_colors = cm.rainbow(np.linspace(0, 1, 950))

tsne_ae_species = TSNE(n_components = 2).fit_transform(x_ae_codes)

fig, axes = plt.subplots(1)
fig.set_size_inches(30, 30)# plt.scatter(tsne_ae_species[: , 0], tsne_ae_species[: , 1], edgecolors =
    'none')
plt.scatter(tsne_ae_species[: , 0], tsne_ae_species[: , 1], c = sample_colors, edgecolors = 'none')# plt
    .colorbar(ticks = range(950))
plt.show()
plt.savefig("cluster-and-viz/may5_tsne_samples_by_nodes.png")
plt.clf()
