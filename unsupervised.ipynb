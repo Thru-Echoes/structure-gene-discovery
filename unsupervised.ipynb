{
 "cells": [
  {
   "cell_type": "code",
   "execution_count": 1,
   "metadata": {
    "collapsed": false
   },
   "outputs": [
    {
     "name": "stderr",
     "output_type": "stream",
     "text": [
      "Using Theano backend.\n"
     ]
    }
   ],
   "source": [
    "import scipy\n",
    "from scipy import stats\n",
    "from scipy import special\n",
    "import numpy as np\n",
    "from numpy import random\n",
    "import pandas as pd\n",
    "import matplotlib.pyplot as plt\n",
    "import palettable as pal\n",
    "from sklearn import decomposition\n",
    "from sklearn import preprocessing\n",
    "from sklearn import cross_decomposition\n",
    "from sklearn import linear_model\n",
    "from keras.models import Sequential\n",
    "from keras.layers.core import Dense, Dropout, Activation, Flatten\n",
    "from keras.optimizers import RMSprop, SGD\n",
    "%matplotlib inline"
   ]
  },
  {
   "cell_type": "code",
   "execution_count": 2,
   "metadata": {
    "collapsed": true
   },
   "outputs": [],
   "source": [
    "properties = pd.DataFrame.from_csv(\"Species_properites_likelihood.csv\")"
   ]
  },
  {
   "cell_type": "code",
   "execution_count": null,
   "metadata": {
    "collapsed": true
   },
   "outputs": [],
   "source": []
  },
  {
   "cell_type": "code",
   "execution_count": 3,
   "metadata": {
    "collapsed": false
   },
   "outputs": [],
   "source": [
    "concentration = pd.DataFrame.from_csv(\"simulated_counts.csv\")\n",
    "for i in range(concentration.shape[0]):\n",
    "        concentration.iloc[i,:] = concentration.iloc[i,:] / concentration.iloc[i,:].sum()"
   ]
  },
  {
   "cell_type": "code",
   "execution_count": 4,
   "metadata": {
    "collapsed": false
   },
   "outputs": [],
   "source": [
    "pca = decomposition.PCA(n_components=10)\n",
    "pca.fit(concentration)\n",
    "X = pca.transform(concentration)"
   ]
  },
  {
   "cell_type": "code",
   "execution_count": 5,
   "metadata": {
    "collapsed": false
   },
   "outputs": [
    {
     "name": "stderr",
     "output_type": "stream",
     "text": [
      "/Users/davidharris/anaconda/lib/python2.7/site-packages/sklearn/linear_model/least_angle.py:170: FutureWarning: elementwise comparison failed; returning scalar instead, but in the future will perform elementwise comparison\n",
      "  elif Gram == 'auto':\n"
     ]
    }
   ],
   "source": [
    "dictlearn = decomposition.DictionaryLearning(n_components=10)\n",
    "dictlearn.fit(concentration)\n",
    "X2 = dictlearn.transform(concentration)"
   ]
  },
  {
   "cell_type": "code",
   "execution_count": 6,
   "metadata": {
    "collapsed": false
   },
   "outputs": [
    {
     "name": "stderr",
     "output_type": "stream",
     "text": [
      "/Users/davidharris/anaconda/lib/python2.7/site-packages/scipy/linalg/basic.py:884: RuntimeWarning: internal gelsd driver lwork query error, required iwork dimension not returned. This is likely the result of LAPACK bug 0038, fixed in LAPACK 3.2.2 (released July 21, 2010). Falling back to 'gelss' driver.\n",
      "  warnings.warn(mesg, RuntimeWarning)\n"
     ]
    },
    {
     "data": {
      "text/plain": [
       "LinearRegression(copy_X=True, fit_intercept=True, n_jobs=1, normalize=False)"
      ]
     },
     "execution_count": 6,
     "metadata": {},
     "output_type": "execute_result"
    }
   ],
   "source": [
    "lm = linear_model.LinearRegression()\n",
    "lm.fit(X, preprocessing.scale(np.array(properties)))\n",
    "\n",
    "lm2 = linear_model.LinearRegression()\n",
    "lm2.fit(X2, preprocessing.scale(np.array(properties)))"
   ]
  },
  {
   "cell_type": "code",
   "execution_count": 7,
   "metadata": {
    "collapsed": false
   },
   "outputs": [
    {
     "name": "stdout",
     "output_type": "stream",
     "text": [
      "0.371468921466\n",
      "0.312978586346\n"
     ]
    }
   ],
   "source": [
    "print lm.score(X, preprocessing.scale(np.array(properties)))\n",
    "print lm2.score(X2, preprocessing.scale(np.array(properties)))"
   ]
  },
  {
   "cell_type": "code",
   "execution_count": 8,
   "metadata": {
    "collapsed": false
   },
   "outputs": [],
   "source": [
    "R2 = 1 - ((lm.predict(X) - preprocessing.scale(np.array(properties))) ** 2).sum(axis = 0) / ((preprocessing.scale(np.array(properties))) ** 2).sum(axis = 0)"
   ]
  },
  {
   "cell_type": "code",
   "execution_count": 9,
   "metadata": {
    "collapsed": false
   },
   "outputs": [
    {
     "data": {
      "text/plain": [
       "array([ 0.33003329,  0.20464316,  0.11578765,  0.50405814,  0.40726832,\n",
       "        0.8171301 ,  0.51514636,  0.59247292,  0.12509838,  0.10305089])"
      ]
     },
     "execution_count": 9,
     "metadata": {},
     "output_type": "execute_result"
    }
   ],
   "source": [
    "R2"
   ]
  },
  {
   "cell_type": "code",
   "execution_count": 174,
   "metadata": {
    "collapsed": false
   },
   "outputs": [],
   "source": [
    "ae = Sequential()\n",
    "ae.add(Dense(50, input_dim=concentration.shape[1]))\n",
    "ae.add(Activation('relu'))\n",
    "ae.add(Dense(concentration.shape[1]))\n",
    "ae.add(Activation('softmax'))\n",
    "ae.compile(optimizer=SGD(lr=.01, momentum=.9, decay=0.001, nesterov=True), loss='categorical_crossentropy')"
   ]
  },
  {
   "cell_type": "code",
   "execution_count": 175,
   "metadata": {
    "collapsed": false
   },
   "outputs": [
    {
     "name": "stdout",
     "output_type": "stream",
     "text": [
      "Epoch 1/100\n",
      "100/100 [==============================] - 0s - loss: 9.2260\n",
      "Epoch 2/100\n",
      "100/100 [==============================] - 0s - loss: 9.2130\n",
      "Epoch 3/100\n",
      "100/100 [==============================] - 0s - loss: 9.1952\n",
      "Epoch 4/100\n",
      "100/100 [==============================] - 0s - loss: 9.1721\n",
      "Epoch 5/100\n",
      "100/100 [==============================] - 0s - loss: 9.1411\n",
      "Epoch 6/100\n",
      "100/100 [==============================] - 0s - loss: 9.0971\n",
      "Epoch 7/100\n",
      "100/100 [==============================] - 0s - loss: 9.0308\n",
      "Epoch 8/100\n",
      "100/100 [==============================] - 0s - loss: 8.9259\n",
      "Epoch 9/100\n",
      "100/100 [==============================] - 0s - loss: 8.7534\n",
      "Epoch 10/100\n",
      "100/100 [==============================] - 0s - loss: 8.4634\n",
      "Epoch 11/100\n",
      "100/100 [==============================] - 0s - loss: 7.9697\n",
      "Epoch 12/100\n",
      "100/100 [==============================] - 0s - loss: 7.1286\n",
      "Epoch 13/100\n",
      "100/100 [==============================] - 0s - loss: 5.9290\n",
      "Epoch 14/100\n",
      "100/100 [==============================] - 0s - loss: 6.3095\n",
      "Epoch 15/100\n",
      "100/100 [==============================] - 0s - loss: 6.3366\n",
      "Epoch 16/100\n",
      "100/100 [==============================] - 0s - loss: 5.8168\n",
      "Epoch 17/100\n",
      "100/100 [==============================] - 0s - loss: 5.2434\n",
      "Epoch 18/100\n",
      "100/100 [==============================] - 0s - loss: 5.0757\n",
      "Epoch 19/100\n",
      "100/100 [==============================] - 0s - loss: 4.8387\n",
      "Epoch 20/100\n",
      "100/100 [==============================] - 0s - loss: 4.6013\n",
      "Epoch 21/100\n",
      "100/100 [==============================] - 0s - loss: 4.4820\n",
      "Epoch 22/100\n",
      "100/100 [==============================] - 0s - loss: 4.3995\n",
      "Epoch 23/100\n",
      "100/100 [==============================] - 0s - loss: 4.2773\n",
      "Epoch 24/100\n",
      "100/100 [==============================] - 0s - loss: 4.1483\n",
      "Epoch 25/100\n",
      "100/100 [==============================] - 0s - loss: 4.0454\n",
      "Epoch 26/100\n",
      "100/100 [==============================] - 0s - loss: 3.9855\n",
      "Epoch 27/100\n",
      "100/100 [==============================] - 0s - loss: 3.9124\n",
      "Epoch 28/100\n",
      "100/100 [==============================] - 0s - loss: 3.8238\n",
      "Epoch 29/100\n",
      "100/100 [==============================] - 0s - loss: 3.7409\n",
      "Epoch 30/100\n",
      "100/100 [==============================] - 0s - loss: 3.6694\n",
      "Epoch 31/100\n",
      "100/100 [==============================] - 0s - loss: 3.6034\n",
      "Epoch 32/100\n",
      "100/100 [==============================] - 0s - loss: 3.5449\n",
      "Epoch 33/100\n",
      "100/100 [==============================] - 0s - loss: 3.4931\n",
      "Epoch 34/100\n",
      "100/100 [==============================] - 0s - loss: 3.4440\n",
      "Epoch 35/100\n",
      "100/100 [==============================] - 0s - loss: 3.3954\n",
      "Epoch 36/100\n",
      "100/100 [==============================] - 0s - loss: 3.3472\n",
      "Epoch 37/100\n",
      "100/100 [==============================] - 0s - loss: 3.2998\n",
      "Epoch 38/100\n",
      "100/100 [==============================] - 0s - loss: 3.2530\n",
      "Epoch 39/100\n",
      "100/100 [==============================] - 0s - loss: 3.2070\n",
      "Epoch 40/100\n",
      "100/100 [==============================] - 0s - loss: 3.1623\n",
      "Epoch 41/100\n",
      "100/100 [==============================] - 0s - loss: 3.1197\n",
      "Epoch 42/100\n",
      "100/100 [==============================] - 0s - loss: 3.0790\n",
      "Epoch 43/100\n",
      "100/100 [==============================] - 0s - loss: 3.0396\n",
      "Epoch 44/100\n",
      "100/100 [==============================] - 0s - loss: 3.0009\n",
      "Epoch 45/100\n",
      "100/100 [==============================] - 0s - loss: 2.9627\n",
      "Epoch 46/100\n",
      "100/100 [==============================] - 0s - loss: 2.9254\n",
      "Epoch 47/100\n",
      "100/100 [==============================] - 0s - loss: 2.8900\n",
      "Epoch 48/100\n",
      "100/100 [==============================] - 0s - loss: 2.8571\n",
      "Epoch 49/100\n",
      "100/100 [==============================] - 0s - loss: 2.8269\n",
      "Epoch 50/100\n",
      "100/100 [==============================] - 0s - loss: 2.7997\n",
      "Epoch 51/100\n",
      "100/100 [==============================] - 0s - loss: 2.7754\n",
      "Epoch 52/100\n",
      "100/100 [==============================] - 0s - loss: 2.7536\n",
      "Epoch 53/100\n",
      "100/100 [==============================] - 0s - loss: 2.7338\n",
      "Epoch 54/100\n",
      "100/100 [==============================] - 0s - loss: 2.7155\n",
      "Epoch 55/100\n",
      "100/100 [==============================] - 0s - loss: 2.6982\n",
      "Epoch 56/100\n",
      "100/100 [==============================] - 0s - loss: 2.6816\n",
      "Epoch 57/100\n",
      "100/100 [==============================] - 0s - loss: 2.6654\n",
      "Epoch 58/100\n",
      "100/100 [==============================] - 0s - loss: 2.6495\n",
      "Epoch 59/100\n",
      "100/100 [==============================] - 0s - loss: 2.6338\n",
      "Epoch 60/100\n",
      "100/100 [==============================] - 0s - loss: 2.6185\n",
      "Epoch 61/100\n",
      "100/100 [==============================] - 0s - loss: 2.6035\n",
      "Epoch 62/100\n",
      "100/100 [==============================] - 0s - loss: 2.5891\n",
      "Epoch 63/100\n",
      "100/100 [==============================] - 0s - loss: 2.5751\n",
      "Epoch 64/100\n",
      "100/100 [==============================] - 0s - loss: 2.5616\n",
      "Epoch 65/100\n",
      "100/100 [==============================] - 0s - loss: 2.5486\n",
      "Epoch 66/100\n",
      "100/100 [==============================] - 0s - loss: 2.5360\n",
      "Epoch 67/100\n",
      "100/100 [==============================] - 0s - loss: 2.5239\n",
      "Epoch 68/100\n",
      "100/100 [==============================] - 0s - loss: 2.5123\n",
      "Epoch 69/100\n",
      "100/100 [==============================] - 0s - loss: 2.5011\n",
      "Epoch 70/100\n",
      "100/100 [==============================] - 0s - loss: 2.4903\n",
      "Epoch 71/100\n",
      "100/100 [==============================] - 0s - loss: 2.4799\n",
      "Epoch 72/100\n",
      "100/100 [==============================] - 0s - loss: 2.4698\n",
      "Epoch 73/100\n",
      "100/100 [==============================] - 0s - loss: 2.4601\n",
      "Epoch 74/100\n",
      "100/100 [==============================] - 0s - loss: 2.4507\n",
      "Epoch 75/100\n",
      "100/100 [==============================] - 0s - loss: 2.4416\n",
      "Epoch 76/100\n",
      "100/100 [==============================] - 0s - loss: 2.4327\n",
      "Epoch 77/100\n",
      "100/100 [==============================] - 0s - loss: 2.4241\n",
      "Epoch 78/100\n",
      "100/100 [==============================] - 0s - loss: 2.4157\n",
      "Epoch 79/100\n",
      "100/100 [==============================] - 0s - loss: 2.4075\n",
      "Epoch 80/100\n",
      "100/100 [==============================] - 0s - loss: 2.3995\n",
      "Epoch 81/100\n",
      "100/100 [==============================] - 0s - loss: 2.3917\n",
      "Epoch 82/100\n",
      "100/100 [==============================] - 0s - loss: 2.3842\n",
      "Epoch 83/100\n",
      "100/100 [==============================] - 0s - loss: 2.3768\n",
      "Epoch 84/100\n",
      "100/100 [==============================] - 0s - loss: 2.3697\n",
      "Epoch 85/100\n",
      "100/100 [==============================] - 0s - loss: 2.3627\n",
      "Epoch 86/100\n",
      "100/100 [==============================] - 0s - loss: 2.3560\n",
      "Epoch 87/100\n",
      "100/100 [==============================] - 0s - loss: 2.3494\n",
      "Epoch 88/100\n",
      "100/100 [==============================] - 0s - loss: 2.3429\n",
      "Epoch 89/100\n",
      "100/100 [==============================] - 0s - loss: 2.3366\n",
      "Epoch 90/100\n",
      "100/100 [==============================] - 0s - loss: 2.3304\n",
      "Epoch 91/100\n",
      "100/100 [==============================] - 0s - loss: 2.3243\n",
      "Epoch 92/100\n",
      "100/100 [==============================] - 0s - loss: 2.3184\n",
      "Epoch 93/100\n",
      "100/100 [==============================] - 0s - loss: 2.3125\n",
      "Epoch 94/100\n",
      "100/100 [==============================] - 0s - loss: 2.3067\n",
      "Epoch 95/100\n",
      "100/100 [==============================] - 0s - loss: 2.3011\n",
      "Epoch 96/100\n",
      "100/100 [==============================] - 0s - loss: 2.2955\n",
      "Epoch 97/100\n",
      "100/100 [==============================] - 0s - loss: 2.2900\n",
      "Epoch 98/100\n",
      "100/100 [==============================] - 0s - loss: 2.2846\n",
      "Epoch 99/100\n",
      "100/100 [==============================] - 0s - loss: 2.2792\n",
      "Epoch 100/100\n",
      "100/100 [==============================] - 0s - loss: 2.2740\n"
     ]
    },
    {
     "data": {
      "text/plain": [
       "<keras.callbacks.History at 0x10ed12e50>"
      ]
     },
     "execution_count": 175,
     "metadata": {},
     "output_type": "execute_result"
    }
   ],
   "source": [
    "x = preprocessing.scale(np.array(concentration))\n",
    "y = np.array(concentration)\n",
    "ae.fit(x, y, batch_size=100, nb_epoch=100, verbose=1)"
   ]
  },
  {
   "cell_type": "code",
   "execution_count": 173,
   "metadata": {
    "collapsed": false
   },
   "outputs": [
    {
     "data": {
      "text/plain": [
       "array([ 1.,  1.,  1.,  1.,  1.,  1.,  1.,  1.,  1.,  1.,  1.,  1.,  1.,\n",
       "        1.,  1.,  1.,  1.,  1.,  1.,  1.,  1.,  1.,  1.,  1.,  1.,  1.,\n",
       "        1.,  1.,  1.,  1.,  1.,  1.,  1.,  1.,  1.,  1.,  1.,  1.,  1.,\n",
       "        1.,  1.,  1.,  1.,  1.,  1.,  1.,  1.,  1.,  1.,  1.,  1.,  1.,\n",
       "        1.,  1.,  1.,  1.,  1.,  1.,  1.,  1.,  1.,  1.,  1.,  1.,  1.,\n",
       "        1.,  1.,  1.,  1.,  1.,  1.,  1.,  1.,  1.,  1.,  1.,  1.,  1.,\n",
       "        1.,  1.,  1.,  1.,  1.,  1.,  1.,  1.,  1.,  1.,  1.,  1.,  1.,\n",
       "        1.,  1.,  1.,  1.,  1.,  1.,  1.,  1.,  1.])"
      ]
     },
     "execution_count": 173,
     "metadata": {},
     "output_type": "execute_result"
    }
   ],
   "source": [
    "y.sum(axis = 1)"
   ]
  },
  {
   "cell_type": "code",
   "execution_count": 144,
   "metadata": {
    "collapsed": false
   },
   "outputs": [
    {
     "data": {
      "text/plain": [
       "6.0111915445304473e-18"
      ]
     },
     "execution_count": 144,
     "metadata": {},
     "output_type": "execute_result"
    }
   ],
   "source": [
    "np.mean(x)"
   ]
  },
  {
   "cell_type": "code",
   "execution_count": null,
   "metadata": {
    "collapsed": false
   },
   "outputs": [],
   "source": []
  }
 ],
 "metadata": {
  "kernelspec": {
   "display_name": "Python 2",
   "language": "python",
   "name": "python2"
  },
  "language_info": {
   "codemirror_mode": {
    "name": "ipython",
    "version": 2
   },
   "file_extension": ".py",
   "mimetype": "text/x-python",
   "name": "python",
   "nbconvert_exporter": "python",
   "pygments_lexer": "ipython2",
   "version": "2.7.11"
  }
 },
 "nbformat": 4,
 "nbformat_minor": 0
}
