{
 "cells": [
  {
   "cell_type": "code",
   "execution_count": 2,
   "metadata": {
    "collapsed": false
   },
   "outputs": [
    {
     "name": "stderr",
     "output_type": "stream",
     "text": [
      "Using Theano backend.\n"
     ]
    }
   ],
   "source": [
    "import pandas as pd\n",
    "import numpy as np\n",
    "\n",
    "from sklearn import preprocessing\n",
    "\n",
    "from keras.models import Sequential\n",
    "from keras.layers.core import Dense, Dropout, Activation, Flatten\n",
    "from keras.layers import BatchNormalization\n",
    "from keras.optimizers import RMSprop, SGD\n",
    "from keras import backend as K\n",
    "from keras.regularizers import WeightRegularizer, l1, l2, activity_l2\n",
    "from sklearn.manifold import TSNE\n",
    "from sklearn import linear_model\n",
    "\n",
    "import matplotlib.pyplot as plt\n",
    "%matplotlib inline"
   ]
  },
  {
   "cell_type": "code",
   "execution_count": 4,
   "metadata": {
    "collapsed": false
   },
   "outputs": [],
   "source": [
    "raw = pd.DataFrame.from_csv('data/pseudomonas.tsv', sep='\\t').transpose()"
   ]
  },
  {
   "cell_type": "code",
   "execution_count": 5,
   "metadata": {
    "collapsed": false
   },
   "outputs": [],
   "source": [
    "y = np.array(raw)\n",
    "for i in range(raw.shape[0]):\n",
    "    y[i,:] = y[i,:] / np.sum(y[i,:])\n",
    "x = preprocessing.scale(y)"
   ]
  },
  {
   "cell_type": "code",
   "execution_count": 6,
   "metadata": {
    "collapsed": false
   },
   "outputs": [
    {
     "name": "stdout",
     "output_type": "stream",
     "text": [
      "[t-SNE] Computing pairwise distances...\n",
      "[t-SNE] Computing 91 nearest neighbors...\n",
      "[t-SNE] Computed conditional probabilities for sample 950 / 950\n",
      "[t-SNE] Mean sigma: 20.071101\n",
      "[t-SNE] Error after 100 iterations with early exaggeration: 0.604656\n",
      "[t-SNE] Error after 200 iterations: 0.497741\n"
     ]
    },
    {
     "data": {
      "text/plain": [
       "{'angle': 0.5,\n",
       " 'early_exaggeration': 4.0,\n",
       " 'init': 'random',\n",
       " 'learning_rate': 1000.0,\n",
       " 'method': 'barnes_hut',\n",
       " 'metric': 'euclidean',\n",
       " 'min_grad_norm': 1e-07,\n",
       " 'n_components': 2,\n",
       " 'n_iter': 1000,\n",
       " 'n_iter_without_progress': 30,\n",
       " 'perplexity': 30.0,\n",
       " 'random_state': 0,\n",
       " 'verbose': 1}"
      ]
     },
     "execution_count": 6,
     "metadata": {},
     "output_type": "execute_result"
    }
   ],
   "source": [
    "X_arr = np.array(x)\n",
    "#X_reduced = TruncatedSVD(n_components=500, random_state=0).fit_transform(X_arr)\n",
    "tsneMOD = TSNE(n_components=2, random_state=0, verbose=1)\n",
    "#np.set_printoptions(suppress=True)\n",
    "X_tsne = tsneMOD.fit_transform(X_arr)\n",
    "tsneMOD.get_params()"
   ]
  },
  {
   "cell_type": "code",
   "execution_count": 8,
   "metadata": {
    "collapsed": false
   },
   "outputs": [
    {
     "data": {
      "image/png": "[encoded data removed]",
      "text/plain": [
       "<matplotlib.figure.Figure at 0x1092cda90>"
      ]
     },
     "metadata": {},
     "output_type": "display_data"
    }
   ],
   "source": [
    "plt.scatter(X_tsne[:, 0], X_tsne[:, 1])\n",
    "plt.show()"
   ]
  },
  {
   "cell_type": "code",
   "execution_count": null,
   "metadata": {
    "collapsed": true
   },
   "outputs": [],
   "source": [
    "sklearn.cluster.KMeans(n_cluster=50, verbose=1) # need to work on this"
   ]
  },
  {
   "cell_type": "code",
   "execution_count": 7,
   "metadata": {
    "collapsed": false
   },
   "outputs": [
    {
     "name": "stderr",
     "output_type": "stream",
     "text": [
      "/usr/local/lib/python2.7/site-packages/scipy/linalg/basic.py:884: RuntimeWarning: internal gelsd driver lwork query error, required iwork dimension not returned. This is likely the result of LAPACK bug 0038, fixed in LAPACK 3.2.2 (released July 21, 2010). Falling back to 'gelss' driver.\n",
      "  warnings.warn(mesg, RuntimeWarning)\n"
     ]
    },
    {
     "name": "stdout",
     "output_type": "stream",
     "text": [
      "0.0931010787971\n"
     ]
    }
   ],
   "source": [
    "lm3 = linear_model.LinearRegression()\n",
    "lm3.fit(X_tsne, preprocessing.scale(np.array(raw)))\n",
    "print lm3.score(X_tsne, preprocessing.scale(np.array(raw)))"
   ]
  }
 ],
 "metadata": {
  "kernelspec": {
   "display_name": "Python 2",
   "language": "python",
   "name": "python2"
  },
  "language_info": {
   "codemirror_mode": {
    "name": "ipython",
    "version": 2
   },
   "file_extension": ".py",
   "mimetype": "text/x-python",
   "name": "python",
   "nbconvert_exporter": "python",
   "pygments_lexer": "ipython2",
   "version": "2.7.8"
  }
 },
 "nbformat": 4,
 "nbformat_minor": 0
}
