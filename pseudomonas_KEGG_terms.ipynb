{
 "cells": [
  {
   "cell_type": "code",
   "execution_count": 2,
   "metadata": {
    "collapsed": true
   },
   "outputs": [],
   "source": [
    "import pandas as pd\n",
    "import numpy as np"
   ]
  },
  {
   "cell_type": "code",
   "execution_count": 10,
   "metadata": {
    "collapsed": false
   },
   "outputs": [],
   "source": [
    "raw = pd.read_csv('data/pseudomonas_kegg_tags.txt', sep=',', header=None, keep_default_na=False)"
   ]
  },
  {
   "cell_type": "code",
   "execution_count": 11,
   "metadata": {
    "collapsed": false
   },
   "outputs": [
    {
     "data": {
      "text/plain": [
       "0     KEGG-Pathway-pae00072: Synthesis and degradati...\n",
       "1                                                    10\n",
       "2                                                PA2553\n",
       "3                                                PA2000\n",
       "4                                                PA2011\n",
       "5                                                PA1999\n",
       "6                                                PA2001\n",
       "7                                                PA3925\n",
       "8                                                PA1736\n",
       "9                                                PA2003\n",
       "10                                               PA3589\n",
       "11                                               PA4785\n",
       "12                                                     \n",
       "13                                                     \n",
       "14                                                     \n",
       "15                                                     \n",
       "16                                                     \n",
       "17                                                     \n",
       "18                                                     \n",
       "19                                                     \n",
       "20                                                     \n",
       "21                                                     \n",
       "22                                                     \n",
       "23                                                     \n",
       "24                                                     \n",
       "25                                                     \n",
       "26                                                     \n",
       "27                                                     \n",
       "28                                                     \n",
       "29                                                     \n",
       "                            ...                        \n",
       "64                                                     \n",
       "65                                                     \n",
       "66                                                     \n",
       "67                                                     \n",
       "68                                                     \n",
       "69                                                     \n",
       "70                                                     \n",
       "71                                                     \n",
       "72                                                     \n",
       "73                                                     \n",
       "74                                                     \n",
       "75                                                     \n",
       "76                                                     \n",
       "77                                                     \n",
       "78                                                     \n",
       "79                                                     \n",
       "80                                                     \n",
       "81                                                     \n",
       "82                                                     \n",
       "83                                                     \n",
       "84                                                     \n",
       "85                                                     \n",
       "86                                                     \n",
       "87                                                     \n",
       "88                                                     \n",
       "89                                                     \n",
       "90                                                     \n",
       "91                                                     \n",
       "92                                                     \n",
       "93                                                     \n",
       "Name: 0, dtype: object"
      ]
     },
     "execution_count": 11,
     "metadata": {},
     "output_type": "execute_result"
    }
   ],
   "source": [
    "raw.iloc[0,:]"
   ]
  },
  {
   "cell_type": "code",
   "execution_count": null,
   "metadata": {
    "collapsed": true
   },
   "outputs": [],
   "source": []
  }
 ],
 "metadata": {
  "kernelspec": {
   "display_name": "Python 2",
   "language": "python",
   "name": "python2"
  },
  "language_info": {
   "codemirror_mode": {
    "name": "ipython",
    "version": 2
   },
   "file_extension": ".py",
   "mimetype": "text/x-python",
   "name": "python",
   "nbconvert_exporter": "python",
   "pygments_lexer": "ipython2",
   "version": "2.7.8"
  }
 },
 "nbformat": 4,
 "nbformat_minor": 0
}
