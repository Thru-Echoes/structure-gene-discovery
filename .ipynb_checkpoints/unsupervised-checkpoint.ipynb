{
 "cells": [
  {
   "cell_type": "code",
   "execution_count": 1,
   "metadata": {
    "collapsed": false
   },
   "outputs": [
    {
     "name": "stderr",
     "output_type": "stream",
     "text": [
      "Using Theano backend.\n"
     ]
    }
   ],
   "source": [
    "import scipy\n",
    "from scipy import stats\n",
    "from scipy import special\n",
    "import numpy as np\n",
    "from numpy import random\n",
    "import pandas as pd\n",
    "import matplotlib.pyplot as plt\n",
    "import palettable as pal\n",
    "from sklearn import decomposition\n",
    "from sklearn import preprocessing\n",
    "from sklearn import cross_decomposition\n",
    "from sklearn import linear_model\n",
    "from keras.models import Sequential\n",
    "from keras.layers.core import Dense, Dropout, Activation, Flatten\n",
    "from keras.optimizers import RMSprop, SGD\n",
    "%matplotlib inline"
   ]
  },
  {
   "cell_type": "code",
   "execution_count": 2,
   "metadata": {
    "collapsed": true
   },
   "outputs": [],
   "source": [
    "properties = pd.DataFrame.from_csv(\"Species_properites_likelihood.csv\")"
   ]
  },
  {
   "cell_type": "code",
   "execution_count": null,
   "metadata": {
    "collapsed": true
   },
   "outputs": [],
   "source": []
  },
  {
   "cell_type": "code",
   "execution_count": 3,
   "metadata": {
    "collapsed": false
   },
   "outputs": [],
   "source": [
    "concentration = pd.DataFrame.from_csv(\"simulated_counts.csv\")\n",
    "for i in range(concentration.shape[0]):\n",
    "        concentration.iloc[i,:] = concentration.iloc[i,:] / concentration.iloc[i,:].sum()"
   ]
  },
  {
   "cell_type": "code",
   "execution_count": 4,
   "metadata": {
    "collapsed": false
   },
   "outputs": [],
   "source": [
    "pca = decomposition.PCA(n_components=10)\n",
    "pca.fit(concentration)\n",
    "X = pca.transform(concentration)"
   ]
  },
  {
   "cell_type": "code",
   "execution_count": 5,
   "metadata": {
    "collapsed": false
   },
   "outputs": [
    {
     "name": "stderr",
     "output_type": "stream",
     "text": [
      "/Users/davidharris/anaconda/lib/python2.7/site-packages/sklearn/linear_model/least_angle.py:170: FutureWarning: elementwise comparison failed; returning scalar instead, but in the future will perform elementwise comparison\n",
      "  elif Gram == 'auto':\n"
     ]
    }
   ],
   "source": [
    "dictlearn = decomposition.DictionaryLearning(n_components=10)\n",
    "dictlearn.fit(concentration)\n",
    "X2 = dictlearn.transform(concentration)"
   ]
  },
  {
   "cell_type": "code",
   "execution_count": 6,
   "metadata": {
    "collapsed": false
   },
   "outputs": [
    {
     "name": "stderr",
     "output_type": "stream",
     "text": [
      "/Users/davidharris/anaconda/lib/python2.7/site-packages/scipy/linalg/basic.py:884: RuntimeWarning: internal gelsd driver lwork query error, required iwork dimension not returned. This is likely the result of LAPACK bug 0038, fixed in LAPACK 3.2.2 (released July 21, 2010). Falling back to 'gelss' driver.\n",
      "  warnings.warn(mesg, RuntimeWarning)\n"
     ]
    },
    {
     "data": {
      "text/plain": [
       "LinearRegression(copy_X=True, fit_intercept=True, n_jobs=1, normalize=False)"
      ]
     },
     "execution_count": 6,
     "metadata": {},
     "output_type": "execute_result"
    }
   ],
   "source": [
    "lm = linear_model.LinearRegression()\n",
    "lm.fit(X, preprocessing.scale(np.array(properties)))\n",
    "\n",
    "lm2 = linear_model.LinearRegression()\n",
    "lm2.fit(X2, preprocessing.scale(np.array(properties)))"
   ]
  },
  {
   "cell_type": "code",
   "execution_count": 7,
   "metadata": {
    "collapsed": false
   },
   "outputs": [
    {
     "name": "stdout",
     "output_type": "stream",
     "text": [
      "0.371468921466\n",
      "0.312978586346\n"
     ]
    }
   ],
   "source": [
    "print lm.score(X, preprocessing.scale(np.array(properties)))\n",
    "print lm2.score(X2, preprocessing.scale(np.array(properties)))"
   ]
  },
  {
   "cell_type": "code",
   "execution_count": 8,
   "metadata": {
    "collapsed": false
   },
   "outputs": [],
   "source": [
    "R2 = 1 - ((lm.predict(X) - preprocessing.scale(np.array(properties))) ** 2).sum(axis = 0) / ((preprocessing.scale(np.array(properties))) ** 2).sum(axis = 0)"
   ]
  },
  {
   "cell_type": "code",
   "execution_count": 9,
   "metadata": {
    "collapsed": false
   },
   "outputs": [
    {
     "data": {
      "text/plain": [
       "array([ 0.33003329,  0.20464316,  0.11578765,  0.50405814,  0.40726832,\n",
       "        0.8171301 ,  0.51514636,  0.59247292,  0.12509838,  0.10305089])"
      ]
     },
     "execution_count": 9,
     "metadata": {},
     "output_type": "execute_result"
    }
   ],
   "source": [
    "R2"
   ]
  },
  {
   "cell_type": "code",
   "execution_count": 41,
   "metadata": {
    "collapsed": false
   },
   "outputs": [],
   "source": [
    "ae = Sequential([\n",
    "    Dense(10, input_dim=concentration.shape[1]),\n",
    "    Activation('relu'),\n",
    "    Dense(concentration.shape[1]),\n",
    "    Activation('softmax')\n",
    "])\n",
    "ae.compile(optimizer=SGD(lr=0.1, momentum=.9, decay=0.01, nesterov=True), loss='mse', metrics=['accuracy'])"
   ]
  },
  {
   "cell_type": "code",
   "execution_count": 50,
   "metadata": {
    "collapsed": false
   },
   "outputs": [
    {
     "data": {
      "text/plain": [
       "41.080730591873952"
      ]
     },
     "execution_count": 50,
     "metadata": {},
     "output_type": "execute_result"
    }
   ],
   "source": []
  },
  {
   "cell_type": "code",
   "execution_count": 55,
   "metadata": {
    "collapsed": false
   },
   "outputs": [
    {
     "name": "stdout",
     "output_type": "stream",
     "text": [
      "Epoch 1/10\n",
      "100/100 [==============================] - 0s - loss: 4.1081e-05 - acc: 0.0000e+00\n",
      "Epoch 2/10\n",
      "100/100 [==============================] - 0s - loss: 4.1081e-05 - acc: 0.0000e+00\n",
      "Epoch 3/10\n",
      "100/100 [==============================] - 0s - loss: 4.1081e-05 - acc: 0.0000e+00\n",
      "Epoch 4/10\n",
      "100/100 [==============================] - 0s - loss: 4.1081e-05 - acc: 0.0000e+00\n",
      "Epoch 5/10\n",
      "100/100 [==============================] - 0s - loss: 4.1081e-05 - acc: 0.0000e+00\n",
      "Epoch 6/10\n",
      "100/100 [==============================] - 0s - loss: 4.1081e-05 - acc: 0.0000e+00\n",
      "Epoch 7/10\n",
      "100/100 [==============================] - 0s - loss: 4.1081e-05 - acc: 0.0000e+00\n",
      "Epoch 8/10\n",
      "100/100 [==============================] - 0s - loss: 4.1081e-05 - acc: 0.0000e+00\n",
      "Epoch 9/10\n",
      "100/100 [==============================] - 0s - loss: 4.1081e-05 - acc: 0.0000e+00\n",
      "Epoch 10/10\n",
      "100/100 [==============================] - 0s - loss: 4.1081e-05 - acc: 0.0000e+00\n"
     ]
    },
    {
     "data": {
      "text/plain": [
       "41.080730589767484"
      ]
     },
     "execution_count": 55,
     "metadata": {},
     "output_type": "execute_result"
    }
   ],
   "source": [
    "history = ae.fit(np.array(concentration), np.array(concentration),\n",
    "                    batch_size=100, nb_epoch=10,\n",
    "                    verbose=1)\n",
    "np.sum((ae.predict(np.array(concentration)).flatten() - np.array(concentration).flatten()) ** 2)"
   ]
  },
  {
   "cell_type": "code",
   "execution_count": 35,
   "metadata": {
    "collapsed": false
   },
   "outputs": [
    {
     "name": "stdout",
     "output_type": "stream",
     "text": [
      "100/100 [==============================] - 0s     \n"
     ]
    },
    {
     "data": {
      "text/plain": [
       "[4.1048357379622759e-05, 0.52000000000000002]"
      ]
     },
     "execution_count": 35,
     "metadata": {},
     "output_type": "execute_result"
    }
   ],
   "source": [
    "ae.evaluate(np.array(concentration), np.array(concentration))"
   ]
  },
  {
   "cell_type": "code",
   "execution_count": null,
   "metadata": {
    "collapsed": false
   },
   "outputs": [],
   "source": []
  }
 ],
 "metadata": {
  "kernelspec": {
   "display_name": "Python 2",
   "language": "python",
   "name": "python2"
  },
  "language_info": {
   "codemirror_mode": {
    "name": "ipython",
    "version": 2
   },
   "file_extension": ".py",
   "mimetype": "text/x-python",
   "name": "python",
   "nbconvert_exporter": "python",
   "pygments_lexer": "ipython2",
   "version": "2.7.8"
  }
 },
 "nbformat": 4,
 "nbformat_minor": 0
}
