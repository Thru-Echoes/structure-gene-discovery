{
 "cells": [
  {
   "cell_type": "code",
   "execution_count": 51,
   "metadata": {
    "collapsed": false
   },
   "outputs": [],
   "source": [
    "import scipy\n",
    "from scipy import stats\n",
    "from scipy import special\n",
    "from scipy.stats import beta\n",
    "import numpy as np\n",
    "from numpy import random\n",
    "import pandas as pd\n",
    "import matplotlib.pyplot as plt\n",
    "import palettable as pal\n",
    "%matplotlib inline"
   ]
  },
  {
   "cell_type": "code",
   "execution_count": 113,
   "metadata": {
    "collapsed": false
   },
   "outputs": [],
   "source": [
    "input = \"Species_properites_likelihood.csv\"\n",
    "species_properties = pd.DataFrame.from_csv(input)"
   ]
  },
  {
   "cell_type": "code",
   "execution_count": 182,
   "metadata": {
    "collapsed": false
   },
   "outputs": [
    {
     "data": {
      "text/plain": [
       "(10000, 1)"
      ]
     },
     "execution_count": 182,
     "metadata": {},
     "output_type": "execute_result"
    }
   ],
   "source": [
    "# number of genes from the input matrix\n",
    "n_genes=10000\n",
    "# samples from a beta distribution of size species\n",
    "gene_probs = beta.rvs(5, 5, size = n_genes)\n",
    "genes = np.array(gene_probs)\n",
    "properties_genes = genes.reshape(n_genes,1)\n",
    "#print genes_shape\n",
    "properties_genes.shape"
   ]
  },
  {
   "cell_type": "code",
   "execution_count": 187,
   "metadata": {
    "collapsed": false
   },
   "outputs": [],
   "source": [
    "# number of properties from the input matrix\n",
    "n_properties=len(species_properties.axes[1])\n",
    "# samples from a beta probability distribution of n_properties\n",
    "property_probs = beta.rvs (1,5, size = n_properties)\n",
    "probabilities = np.array(property_probs)\n",
    "probs_shape= probabilities.reshape(1,n_properties)\n",
    "#print probs_shape\n",
    "probs_shape.shape\n",
    "\n"
   ]
  },
  {
   "cell_type": "code",
   "execution_count": 185,
   "metadata": {
    "collapsed": false
   },
   "outputs": [
    {
     "name": "stdout",
     "output_type": "stream",
     "text": [
      "(10000, 10)\n",
      "4.64152860837\n"
     ]
    }
   ],
   "source": [
    "probability_distribution = np.dot(genes_shape,probs_shape)\n",
    "probability_distribution.shape\n",
    "# toss a coin,\n",
    "# samples probability distribution for presence or absence \n",
    "coin_toss= scipy.stats.binom.rvs(1,probability_distribution)\n",
    "effect = random.normal(size=np.size(coin_toss))\n",
    "effect_shape = effect.reshape(n_genes,n_properties)\n",
    "print effect_shape.shape\n",
    "print(np.max(effect_shape * coin_toss))"
   ]
  },
  {
   "cell_type": "code",
   "execution_count": 188,
   "metadata": {
    "collapsed": false
   },
   "outputs": [
    {
     "data": {
      "text/html": [
       "<div>\n",
       "<table border=\"1\" class=\"dataframe\">\n",
       "  <thead>\n",
       "    <tr style=\"text-align: right;\">\n",
       "      <th></th>\n",
       "      <th>0</th>\n",
       "      <th>1</th>\n",
       "      <th>2</th>\n",
       "      <th>3</th>\n",
       "      <th>4</th>\n",
       "      <th>5</th>\n",
       "      <th>6</th>\n",
       "      <th>7</th>\n",
       "      <th>8</th>\n",
       "      <th>9</th>\n",
       "    </tr>\n",
       "  </thead>\n",
       "  <tbody>\n",
       "    <tr>\n",
       "      <th>count</th>\n",
       "      <td>10000.000000</td>\n",
       "      <td>10000.000000</td>\n",
       "      <td>10000.000000</td>\n",
       "      <td>10000.000000</td>\n",
       "      <td>10000.000000</td>\n",
       "      <td>10000.000000</td>\n",
       "      <td>10000.000000</td>\n",
       "      <td>10000.000000</td>\n",
       "      <td>10000.000000</td>\n",
       "      <td>10000.000000</td>\n",
       "    </tr>\n",
       "    <tr>\n",
       "      <th>mean</th>\n",
       "      <td>-0.000767</td>\n",
       "      <td>0.001251</td>\n",
       "      <td>-0.001595</td>\n",
       "      <td>0.002057</td>\n",
       "      <td>-0.002379</td>\n",
       "      <td>-0.000504</td>\n",
       "      <td>-0.000587</td>\n",
       "      <td>0.000085</td>\n",
       "      <td>0.001089</td>\n",
       "      <td>0.000973</td>\n",
       "    </tr>\n",
       "    <tr>\n",
       "      <th>std</th>\n",
       "      <td>0.141514</td>\n",
       "      <td>0.095165</td>\n",
       "      <td>0.152737</td>\n",
       "      <td>0.458453</td>\n",
       "      <td>0.128572</td>\n",
       "      <td>0.139236</td>\n",
       "      <td>0.222614</td>\n",
       "      <td>0.091914</td>\n",
       "      <td>0.176435</td>\n",
       "      <td>0.493962</td>\n",
       "    </tr>\n",
       "    <tr>\n",
       "      <th>min</th>\n",
       "      <td>-2.988246</td>\n",
       "      <td>-2.368132</td>\n",
       "      <td>-2.445372</td>\n",
       "      <td>-3.175332</td>\n",
       "      <td>-2.529415</td>\n",
       "      <td>-2.822585</td>\n",
       "      <td>-2.667557</td>\n",
       "      <td>-1.965970</td>\n",
       "      <td>-3.771072</td>\n",
       "      <td>-2.955251</td>\n",
       "    </tr>\n",
       "    <tr>\n",
       "      <th>25%</th>\n",
       "      <td>-0.000000</td>\n",
       "      <td>0.000000</td>\n",
       "      <td>0.000000</td>\n",
       "      <td>0.000000</td>\n",
       "      <td>0.000000</td>\n",
       "      <td>0.000000</td>\n",
       "      <td>-0.000000</td>\n",
       "      <td>-0.000000</td>\n",
       "      <td>0.000000</td>\n",
       "      <td>0.000000</td>\n",
       "    </tr>\n",
       "    <tr>\n",
       "      <th>50%</th>\n",
       "      <td>0.000000</td>\n",
       "      <td>0.000000</td>\n",
       "      <td>0.000000</td>\n",
       "      <td>-0.000000</td>\n",
       "      <td>0.000000</td>\n",
       "      <td>-0.000000</td>\n",
       "      <td>-0.000000</td>\n",
       "      <td>0.000000</td>\n",
       "      <td>-0.000000</td>\n",
       "      <td>0.000000</td>\n",
       "    </tr>\n",
       "    <tr>\n",
       "      <th>75%</th>\n",
       "      <td>0.000000</td>\n",
       "      <td>0.000000</td>\n",
       "      <td>0.000000</td>\n",
       "      <td>0.000000</td>\n",
       "      <td>0.000000</td>\n",
       "      <td>0.000000</td>\n",
       "      <td>0.000000</td>\n",
       "      <td>-0.000000</td>\n",
       "      <td>0.000000</td>\n",
       "      <td>0.000000</td>\n",
       "    </tr>\n",
       "    <tr>\n",
       "      <th>max</th>\n",
       "      <td>2.765426</td>\n",
       "      <td>2.830957</td>\n",
       "      <td>2.392209</td>\n",
       "      <td>4.641529</td>\n",
       "      <td>2.191498</td>\n",
       "      <td>2.742213</td>\n",
       "      <td>2.744615</td>\n",
       "      <td>2.830621</td>\n",
       "      <td>2.872868</td>\n",
       "      <td>3.791420</td>\n",
       "    </tr>\n",
       "  </tbody>\n",
       "</table>\n",
       "</div>"
      ],
      "text/plain": [
       "                  0             1             2             3             4  \\\n",
       "count  10000.000000  10000.000000  10000.000000  10000.000000  10000.000000   \n",
       "mean      -0.000767      0.001251     -0.001595      0.002057     -0.002379   \n",
       "std        0.141514      0.095165      0.152737      0.458453      0.128572   \n",
       "min       -2.988246     -2.368132     -2.445372     -3.175332     -2.529415   \n",
       "25%       -0.000000      0.000000      0.000000      0.000000      0.000000   \n",
       "50%        0.000000      0.000000      0.000000     -0.000000      0.000000   \n",
       "75%        0.000000      0.000000      0.000000      0.000000      0.000000   \n",
       "max        2.765426      2.830957      2.392209      4.641529      2.191498   \n",
       "\n",
       "                  5             6             7             8             9  \n",
       "count  10000.000000  10000.000000  10000.000000  10000.000000  10000.000000  \n",
       "mean      -0.000504     -0.000587      0.000085      0.001089      0.000973  \n",
       "std        0.139236      0.222614      0.091914      0.176435      0.493962  \n",
       "min       -2.822585     -2.667557     -1.965970     -3.771072     -2.955251  \n",
       "25%        0.000000     -0.000000     -0.000000      0.000000      0.000000  \n",
       "50%       -0.000000     -0.000000      0.000000     -0.000000      0.000000  \n",
       "75%        0.000000      0.000000     -0.000000      0.000000      0.000000  \n",
       "max        2.742213      2.744615      2.830621      2.872868      3.791420  "
      ]
     },
     "execution_count": 188,
     "metadata": {},
     "output_type": "execute_result"
    }
   ],
   "source": [
    "\n",
    "mult = pd.DataFrame( effect_shape * coin_toss)\n",
    "mult.describe()"
   ]
  },
  {
   "cell_type": "code",
   "execution_count": 118,
   "metadata": {
    "collapsed": false,
    "scrolled": true
   },
   "outputs": [
    {
     "data": {
      "image/png": "[encoded data removed]",
      "text/plain": [
       "<matplotlib.figure.Figure at 0x7f46fc728750>"
      ]
     },
     "metadata": {},
     "output_type": "display_data"
    }
   ],
   "source": [
    "fig,ax = plt.subplots(1)\n",
    "g = pal.colorbrewer.diverging.PiYG_11.get_mpl_colormap()\n",
    "h=ax.pcolor(mult,cmap=g)\n",
    "fig.colorbar(h)\n",
    "fig.set_size_inches(2,10)"
   ]
  },
  {
   "cell_type": "code",
   "execution_count": 158,
   "metadata": {
    "collapsed": false
   },
   "outputs": [
    {
     "name": "stdout",
     "output_type": "stream",
     "text": [
      "[[  2.50000000e+02   2.00000000e+00   1.40000000e+01 ...,   1.28400000e+03\n",
      "    1.00000000e+01   3.21000000e+02]\n",
      " [  1.26400000e+03   1.00000000e+00   4.00000000e+00 ...,   7.70000000e+01\n",
      "    7.52000000e+02   1.84000000e+02]\n",
      " [  1.72000000e+02   1.10000000e+01   2.00000000e+00 ...,   3.00000000e+02\n",
      "    9.50000000e+01   1.40000000e+01]\n",
      " ..., \n",
      " [  8.97000000e+02   9.00000000e+00   2.80000000e+01 ...,   1.43000000e+02\n",
      "    3.64000000e+02   1.40100000e+03]\n",
      " [  2.65000000e+02   6.00000000e+00   6.00000000e+00 ...,   1.73000000e+02\n",
      "    2.94000000e+02   1.05000000e+02]\n",
      " [  1.78000000e+02   1.00000000e+00   0.00000000e+00 ...,   4.32000000e+02\n",
      "    9.20000000e+01   4.20000000e+02]]\n",
      "1000000\n",
      "2.87961986144e+13\n"
     ]
    }
   ],
   "source": [
    "# rename species_properties and properties_genes to match your code\n",
    "\n",
    "mult_t = mult.transpose()\n",
    "property_effects = np.dot(species_properties, mult_t)\n",
    "\n",
    "# Use exp to ensure that all the counts will be positive\n",
    "expected_counts = np.exp(property_effects*6 + 2)\n",
    "\n",
    "# Define negative binomial parameters, n and p\n",
    "n = 2\n",
    "p = n / (n + expected_counts)\n",
    "\n",
    "# Randomly fill in the observed counts with negative binomial based on n and p\n",
    "counts = expected_counts * 0 # start empty\n",
    "for i in range(0, counts.shape[0]):\n",
    "  counts[i] = scipy.stats.nbinom.rvs(n=n, p=p[i], size = expected_counts.shape[1])\n",
    "  \n",
    "print(counts)\n",
    "print counts.size\n",
    "print counts.sum()\n",
    "count_df = pd.DataFrame(counts, dtype=\"int\")"
   ]
  },
  {
   "cell_type": "code",
   "execution_count": 169,
   "metadata": {
    "collapsed": false
   },
   "outputs": [
    {
     "data": {
      "text/plain": [
       "<matplotlib.axes._subplots.AxesSubplot at 0x7f46fc6389d0>"
      ]
     },
     "execution_count": 169,
     "metadata": {},
     "output_type": "execute_result"
    },
    {
     "data": {
      "image/png": "[encoded data removed]",
      "text/plain": [
       "<matplotlib.figure.Figure at 0x7f46fc5ae350>"
      ]
     },
     "metadata": {},
     "output_type": "display_data"
    }
   ],
   "source": [
    "count_df.T.sum().plot(kind='hist')"
   ]
  },
  {
   "cell_type": "code",
   "execution_count": 167,
   "metadata": {
    "collapsed": false
   },
   "outputs": [
    {
     "data": {
      "text/plain": [
       "<matplotlib.axes._subplots.AxesSubplot at 0x7f46fc5aef50>"
      ]
     },
     "execution_count": 167,
     "metadata": {},
     "output_type": "execute_result"
    },
    {
     "data": {
      "image/png": "[encoded data removed]",
      "text/plain": [
       "<matplotlib.figure.Figure at 0x7f46fd370850>"
      ]
     },
     "metadata": {},
     "output_type": "display_data"
    }
   ],
   "source": [
    "count_df[count_df==0].T.count().plot(kind='hist')"
   ]
  },
  {
   "cell_type": "code",
   "execution_count": 180,
   "metadata": {
    "collapsed": false
   },
   "outputs": [
    {
     "data": {
      "text/html": [
       "<div>\n",
       "<table border=\"1\" class=\"dataframe\">\n",
       "  <thead>\n",
       "    <tr style=\"text-align: right;\">\n",
       "      <th></th>\n",
       "      <th>0</th>\n",
       "      <th>1</th>\n",
       "      <th>2</th>\n",
       "      <th>3</th>\n",
       "      <th>4</th>\n",
       "      <th>5</th>\n",
       "      <th>6</th>\n",
       "      <th>7</th>\n",
       "      <th>8</th>\n",
       "      <th>9</th>\n",
       "      <th>...</th>\n",
       "      <th>90</th>\n",
       "      <th>91</th>\n",
       "      <th>92</th>\n",
       "      <th>93</th>\n",
       "      <th>94</th>\n",
       "      <th>95</th>\n",
       "      <th>96</th>\n",
       "      <th>97</th>\n",
       "      <th>98</th>\n",
       "      <th>99</th>\n",
       "    </tr>\n",
       "  </thead>\n",
       "  <tbody>\n",
       "    <tr>\n",
       "      <th>count</th>\n",
       "      <td>100.000000</td>\n",
       "      <td>100.000000</td>\n",
       "      <td>100.000000</td>\n",
       "      <td>100.000000</td>\n",
       "      <td>100.000000</td>\n",
       "      <td>100.000000</td>\n",
       "      <td>100.000000</td>\n",
       "      <td>100.000000</td>\n",
       "      <td>100.00000</td>\n",
       "      <td>100.000000</td>\n",
       "      <td>...</td>\n",
       "      <td>100.000000</td>\n",
       "      <td>100.000000</td>\n",
       "      <td>100.00000</td>\n",
       "      <td>100.000000</td>\n",
       "      <td>100.000000</td>\n",
       "      <td>100.00000</td>\n",
       "      <td>100.000000</td>\n",
       "      <td>100.000000</td>\n",
       "      <td>100.000000</td>\n",
       "      <td>100.000000</td>\n",
       "    </tr>\n",
       "    <tr>\n",
       "      <th>mean</th>\n",
       "      <td>990.860000</td>\n",
       "      <td>7.860000</td>\n",
       "      <td>7.260000</td>\n",
       "      <td>7.040000</td>\n",
       "      <td>0.870000</td>\n",
       "      <td>16.370000</td>\n",
       "      <td>7.310000</td>\n",
       "      <td>8.130000</td>\n",
       "      <td>7.25000</td>\n",
       "      <td>1.460000</td>\n",
       "      <td>...</td>\n",
       "      <td>29.380000</td>\n",
       "      <td>64.740000</td>\n",
       "      <td>16.26000</td>\n",
       "      <td>30.230000</td>\n",
       "      <td>6004.250000</td>\n",
       "      <td>5.35000</td>\n",
       "      <td>4.880000</td>\n",
       "      <td>1491.760000</td>\n",
       "      <td>23.090000</td>\n",
       "      <td>0.350000</td>\n",
       "    </tr>\n",
       "    <tr>\n",
       "      <th>std</th>\n",
       "      <td>1305.914317</td>\n",
       "      <td>6.314997</td>\n",
       "      <td>4.829664</td>\n",
       "      <td>4.869862</td>\n",
       "      <td>1.767581</td>\n",
       "      <td>19.140446</td>\n",
       "      <td>6.442747</td>\n",
       "      <td>6.049718</td>\n",
       "      <td>5.85925</td>\n",
       "      <td>1.654013</td>\n",
       "      <td>...</td>\n",
       "      <td>26.489861</td>\n",
       "      <td>90.278539</td>\n",
       "      <td>46.30501</td>\n",
       "      <td>35.881921</td>\n",
       "      <td>27052.348565</td>\n",
       "      <td>4.68907</td>\n",
       "      <td>4.727483</td>\n",
       "      <td>4092.995485</td>\n",
       "      <td>20.066604</td>\n",
       "      <td>0.957427</td>\n",
       "    </tr>\n",
       "    <tr>\n",
       "      <th>min</th>\n",
       "      <td>1.000000</td>\n",
       "      <td>0.000000</td>\n",
       "      <td>0.000000</td>\n",
       "      <td>0.000000</td>\n",
       "      <td>0.000000</td>\n",
       "      <td>0.000000</td>\n",
       "      <td>0.000000</td>\n",
       "      <td>0.000000</td>\n",
       "      <td>0.00000</td>\n",
       "      <td>0.000000</td>\n",
       "      <td>...</td>\n",
       "      <td>1.000000</td>\n",
       "      <td>1.000000</td>\n",
       "      <td>0.00000</td>\n",
       "      <td>0.000000</td>\n",
       "      <td>6.000000</td>\n",
       "      <td>0.00000</td>\n",
       "      <td>0.000000</td>\n",
       "      <td>2.000000</td>\n",
       "      <td>0.000000</td>\n",
       "      <td>0.000000</td>\n",
       "    </tr>\n",
       "    <tr>\n",
       "      <th>25%</th>\n",
       "      <td>167.750000</td>\n",
       "      <td>3.000000</td>\n",
       "      <td>4.000000</td>\n",
       "      <td>3.000000</td>\n",
       "      <td>0.000000</td>\n",
       "      <td>4.750000</td>\n",
       "      <td>3.000000</td>\n",
       "      <td>4.000000</td>\n",
       "      <td>3.00000</td>\n",
       "      <td>0.000000</td>\n",
       "      <td>...</td>\n",
       "      <td>11.750000</td>\n",
       "      <td>16.750000</td>\n",
       "      <td>1.00000</td>\n",
       "      <td>7.750000</td>\n",
       "      <td>208.750000</td>\n",
       "      <td>2.00000</td>\n",
       "      <td>2.000000</td>\n",
       "      <td>55.000000</td>\n",
       "      <td>9.000000</td>\n",
       "      <td>0.000000</td>\n",
       "    </tr>\n",
       "    <tr>\n",
       "      <th>50%</th>\n",
       "      <td>455.500000</td>\n",
       "      <td>6.000000</td>\n",
       "      <td>6.500000</td>\n",
       "      <td>6.000000</td>\n",
       "      <td>0.000000</td>\n",
       "      <td>11.000000</td>\n",
       "      <td>5.000000</td>\n",
       "      <td>7.000000</td>\n",
       "      <td>6.00000</td>\n",
       "      <td>1.000000</td>\n",
       "      <td>...</td>\n",
       "      <td>21.000000</td>\n",
       "      <td>36.500000</td>\n",
       "      <td>3.00000</td>\n",
       "      <td>16.500000</td>\n",
       "      <td>534.000000</td>\n",
       "      <td>5.00000</td>\n",
       "      <td>3.000000</td>\n",
       "      <td>211.000000</td>\n",
       "      <td>15.000000</td>\n",
       "      <td>0.000000</td>\n",
       "    </tr>\n",
       "    <tr>\n",
       "      <th>75%</th>\n",
       "      <td>1387.000000</td>\n",
       "      <td>10.250000</td>\n",
       "      <td>10.000000</td>\n",
       "      <td>10.000000</td>\n",
       "      <td>1.000000</td>\n",
       "      <td>20.000000</td>\n",
       "      <td>10.000000</td>\n",
       "      <td>10.250000</td>\n",
       "      <td>8.25000</td>\n",
       "      <td>2.000000</td>\n",
       "      <td>...</td>\n",
       "      <td>38.250000</td>\n",
       "      <td>75.250000</td>\n",
       "      <td>11.00000</td>\n",
       "      <td>34.250000</td>\n",
       "      <td>1436.500000</td>\n",
       "      <td>7.25000</td>\n",
       "      <td>7.000000</td>\n",
       "      <td>843.250000</td>\n",
       "      <td>30.250000</td>\n",
       "      <td>0.000000</td>\n",
       "    </tr>\n",
       "    <tr>\n",
       "      <th>max</th>\n",
       "      <td>8210.000000</td>\n",
       "      <td>28.000000</td>\n",
       "      <td>28.000000</td>\n",
       "      <td>21.000000</td>\n",
       "      <td>9.000000</td>\n",
       "      <td>123.000000</td>\n",
       "      <td>30.000000</td>\n",
       "      <td>40.000000</td>\n",
       "      <td>32.00000</td>\n",
       "      <td>7.000000</td>\n",
       "      <td>...</td>\n",
       "      <td>175.000000</td>\n",
       "      <td>604.000000</td>\n",
       "      <td>363.00000</td>\n",
       "      <td>211.000000</td>\n",
       "      <td>190789.000000</td>\n",
       "      <td>30.00000</td>\n",
       "      <td>27.000000</td>\n",
       "      <td>27841.000000</td>\n",
       "      <td>96.000000</td>\n",
       "      <td>5.000000</td>\n",
       "    </tr>\n",
       "  </tbody>\n",
       "</table>\n",
       "<p>8 rows × 100 columns</p>\n",
       "</div>"
      ],
      "text/plain": [
       "                0           1           2           3           4   \\\n",
       "count   100.000000  100.000000  100.000000  100.000000  100.000000   \n",
       "mean    990.860000    7.860000    7.260000    7.040000    0.870000   \n",
       "std    1305.914317    6.314997    4.829664    4.869862    1.767581   \n",
       "min       1.000000    0.000000    0.000000    0.000000    0.000000   \n",
       "25%     167.750000    3.000000    4.000000    3.000000    0.000000   \n",
       "50%     455.500000    6.000000    6.500000    6.000000    0.000000   \n",
       "75%    1387.000000   10.250000   10.000000   10.000000    1.000000   \n",
       "max    8210.000000   28.000000   28.000000   21.000000    9.000000   \n",
       "\n",
       "               5           6           7          8           9      ...      \\\n",
       "count  100.000000  100.000000  100.000000  100.00000  100.000000     ...       \n",
       "mean    16.370000    7.310000    8.130000    7.25000    1.460000     ...       \n",
       "std     19.140446    6.442747    6.049718    5.85925    1.654013     ...       \n",
       "min      0.000000    0.000000    0.000000    0.00000    0.000000     ...       \n",
       "25%      4.750000    3.000000    4.000000    3.00000    0.000000     ...       \n",
       "50%     11.000000    5.000000    7.000000    6.00000    1.000000     ...       \n",
       "75%     20.000000   10.000000   10.250000    8.25000    2.000000     ...       \n",
       "max    123.000000   30.000000   40.000000   32.00000    7.000000     ...       \n",
       "\n",
       "               90          91         92          93             94  \\\n",
       "count  100.000000  100.000000  100.00000  100.000000     100.000000   \n",
       "mean    29.380000   64.740000   16.26000   30.230000    6004.250000   \n",
       "std     26.489861   90.278539   46.30501   35.881921   27052.348565   \n",
       "min      1.000000    1.000000    0.00000    0.000000       6.000000   \n",
       "25%     11.750000   16.750000    1.00000    7.750000     208.750000   \n",
       "50%     21.000000   36.500000    3.00000   16.500000     534.000000   \n",
       "75%     38.250000   75.250000   11.00000   34.250000    1436.500000   \n",
       "max    175.000000  604.000000  363.00000  211.000000  190789.000000   \n",
       "\n",
       "              95          96            97          98          99  \n",
       "count  100.00000  100.000000    100.000000  100.000000  100.000000  \n",
       "mean     5.35000    4.880000   1491.760000   23.090000    0.350000  \n",
       "std      4.68907    4.727483   4092.995485   20.066604    0.957427  \n",
       "min      0.00000    0.000000      2.000000    0.000000    0.000000  \n",
       "25%      2.00000    2.000000     55.000000    9.000000    0.000000  \n",
       "50%      5.00000    3.000000    211.000000   15.000000    0.000000  \n",
       "75%      7.25000    7.000000    843.250000   30.250000    0.000000  \n",
       "max     30.00000   27.000000  27841.000000   96.000000    5.000000  \n",
       "\n",
       "[8 rows x 100 columns]"
      ]
     },
     "execution_count": 180,
     "metadata": {},
     "output_type": "execute_result"
    }
   ],
   "source": [
    "count_df.iloc[:,0:100].describe()"
   ]
  },
  {
   "cell_type": "code",
   "execution_count": null,
   "metadata": {
    "collapsed": true
   },
   "outputs": [],
   "source": []
  }
 ],
 "metadata": {
  "kernelspec": {
   "display_name": "Python 2",
   "language": "python",
   "name": "python2"
  },
  "language_info": {
   "codemirror_mode": {
    "name": "ipython",
    "version": 2
   },
   "file_extension": ".py",
   "mimetype": "text/x-python",
   "name": "python",
   "nbconvert_exporter": "python",
   "pygments_lexer": "ipython2",
   "version": "2.7.11"
  }
 },
 "nbformat": 4,
 "nbformat_minor": 0
}
